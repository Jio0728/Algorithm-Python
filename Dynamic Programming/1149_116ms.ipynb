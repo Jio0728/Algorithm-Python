{
  "nbformat": 4,
  "nbformat_minor": 0,
  "metadata": {
    "colab": {
      "name": "07.16(1912_128ms, 1149_116ms).ipynb",
      "provenance": []
    },
    "kernelspec": {
      "name": "python3",
      "display_name": "Python 3"
    },
    "language_info": {
      "name": "python"
    }
  },
  "cells": [
    {
      "cell_type": "code",
      "source": [
        "n = int(input())\n",
        "M = [list(map(int, input().split())) for _ in range(n)]\n",
        "dp_R = [0]*n\n",
        "dp_G = [0]*n\n",
        "dp_B = [0]*n\n",
        "dp_R[0], dp_G[0], dp_B[0] = M[0][0], M[0][1], M[0][2]\n",
        "for i in range(1, n):\n",
        "  dp_R[i] = M[i][0] + min(dp_G[i-1], dp_B[i-1])\n",
        "  dp_G[i] = M[i][1] + min(dp_R[i-1], dp_B[i-1])\n",
        "  dp_B[i] = M[i][2] + min(dp_R[i-1], dp_G[i-1])\n",
        "\n",
        "print(min(dp_R[n-1], dp_G[n-1], dp_B[n-1]))"
      ],
      "metadata": {
        "id": "A3ElWN-08J-0"
      },
      "execution_count": null,
      "outputs": []
    }
  ]
}