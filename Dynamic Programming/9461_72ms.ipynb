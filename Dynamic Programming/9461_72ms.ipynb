{
  "nbformat": 4,
  "nbformat_minor": 0,
  "metadata": {
    "colab": {
      "name": "9461_72ms.ipynb",
      "provenance": []
    },
    "kernelspec": {
      "name": "python3",
      "display_name": "Python 3"
    },
    "language_info": {
      "name": "python"
    }
  },
  "cells": [
    {
      "cell_type": "code",
      "source": [
        "#9761\n",
        "import sys\n",
        "\n",
        "N = int(sys.stdin.readline())\n",
        "f = [0] * 101 #N의 최댓값 100이다. 0번 인덱스 안 쓸 것이기 때문에 101로 설정.\n",
        "f[1], f[2], f[3] = 1, 1, 1\n",
        "f[4], f[5] = 2, 2\n",
        "f[6], f[7], f[8] = 3, 4, 5 #이 쪽은 패턴을 모르겠어서 그대로 입력.\n",
        "\n",
        "\n",
        "def num(x):\n",
        "  if f[x]: #만약 이전에 이미 계산된 값이 주어진다면? f[x]에 이미 값이 저장되어 있을 것이다. 0보다 큰 정수는 조건문에 사용되는 True이기 때문에 조건문 실행됨.\n",
        "    return f[x] #저장된 값이 반환되고 끝난다.\n",
        "  else:\n",
        "    for i in range(9, x+1): #9보다 큰 값에서는 i번째 삼각형의 변의 길이는 i-5번째와 i-1번째 변의 길이의 합과 같다.\n",
        "      f[i] = f[i-5] + f[i-1]\n",
        "      if i == x:\n",
        "        return f[x]\n",
        "\n",
        "for _ in range(N):\n",
        "  x = int(sys.stdin.readline())\n",
        "  print(num(x))"
      ],
      "metadata": {
        "id": "T5KyWY-6iSAz"
      },
      "execution_count": null,
      "outputs": []
    }
  ]
}