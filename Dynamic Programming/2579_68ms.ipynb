{
 "cells": [
  {
   "cell_type": "code",
   "execution_count": null,
   "metadata": {},
   "outputs": [],
   "source": [
    "import sys\n",
    "\n",
    "N = int(sys.stdin.readline())\n",
    "L = [0] * 301\n",
    "for i in range(N):\n",
    "    L[i] = int(sys.stdin.readline())\n",
    "dp = [0] * 301\n",
    "dp[0] = L[0]\n",
    "dp[1] = L[0] + L[1]\n",
    "dp[2] = max(L[0] + L[2], L[1] + L[2])\n",
    "for i in range(3, N):\n",
    "    dp[i] = max(dp[i-3] + L[i-1], dp[i-2]) + L[i]\n",
    "\n",
    "print(dp[N-1])"
   ]
  }
 ],
 "metadata": {
  "interpreter": {
   "hash": "9847cb6271f1dadfd020ab328e7d1d6fdbebaaace0f8c1c71326fe5f7e43ca02"
  },
  "kernelspec": {
   "display_name": "Python 3.9.2 64-bit",
   "language": "python",
   "name": "python3"
  },
  "language_info": {
   "name": "python",
   "version": "3.9.2"
  },
  "orig_nbformat": 4
 },
 "nbformat": 4,
 "nbformat_minor": 2
}
