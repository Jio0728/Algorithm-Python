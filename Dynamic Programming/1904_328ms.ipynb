{
  "nbformat": 4,
  "nbformat_minor": 0,
  "metadata": {
    "colab": {
      "name": "1904_328ms.ipynb",
      "provenance": []
    },
    "kernelspec": {
      "name": "python3",
      "display_name": "Python 3"
    },
    "language_info": {
      "name": "python"
    }
  },
  "cells": [
    {
      "cell_type": "code",
      "execution_count": null,
      "metadata": {
        "id": "_10KdLJodxjk"
      },
      "outputs": [],
      "source": [
        "from collections import deque\n",
        "\n",
        "N = int(input())\n",
        "\n",
        "\n",
        "# 타일은 1로 시작하거나 00으로 시작한다.\n",
        "# N개의 타일로 만들 수 있는 조합은 다음과 같다.\n",
        "# N-1개의 타일로 만들 수 있는 조합의 앞에 1을 붙이기 + N-2개의 타일로 만들 수 있는 조합의 앞에 00을 붙이기.\n",
        "# 즉, N개의 타일로 만들 수 있는 조합의 수를 num(N) 이라고 둔다면, num(N) = num(N-1) +num(N-2)다.\n",
        "\n",
        "queue = deque([1,2]) #메모리를 줄이기 위해 deque 활용.\n",
        "\n",
        "def num(N):\n",
        "  if N == 1:\n",
        "    return 1\n",
        "  if N ==2:\n",
        "    return 2\n",
        "\n",
        "  for i in range(3, N+1):\n",
        "    a = queue.popleft() # num(N-2)는 이제 불필요하기 때문에 queue에서 삭제해준다.\n",
        "    b = queue[0]\n",
        "    x = (a+b) % 15746\n",
        "    queue.append(x)\n",
        "    if i == N: #N에 도달하면 바로 반환.\n",
        "      return x \n",
        "\n",
        "print(num(N))"
      ]
    }
  ]
}