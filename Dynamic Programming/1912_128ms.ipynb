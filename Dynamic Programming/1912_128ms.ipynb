{
  "nbformat": 4,
  "nbformat_minor": 0,
  "metadata": {
    "colab": {
      "name": "1912_128ms.ipynb",
      "provenance": []
    },
    "kernelspec": {
      "name": "python3",
      "display_name": "Python 3"
    },
    "language_info": {
      "name": "python"
    }
  },
  "cells": [
    {
      "cell_type": "code",
      "execution_count": null,
      "metadata": {
        "id": "jZnFWNMCswYJ"
      },
      "outputs": [],
      "source": [
        "import sys\n",
        "\n",
        "n = int(sys.stdin.readline())\n",
        "\n",
        "L = list(map(int, sys.stdin.readline().split()))\n",
        "dp = [0] * n\n",
        "dp[0] = L[0]\n",
        "for i in range(n):\n",
        "  dp[i] = max(dp[i-1] + L[i], L[i])\n",
        "\n",
        "print(max(dp))"
      ]
    }
  ]
}