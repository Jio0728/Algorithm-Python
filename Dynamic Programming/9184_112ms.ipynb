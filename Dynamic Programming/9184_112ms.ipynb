{
  "nbformat": 4,
  "nbformat_minor": 0,
  "metadata": {
    "colab": {
      "name": "9184_112ms.ipynb",
      "provenance": []
    },
    "kernelspec": {
      "name": "python3",
      "display_name": "Python 3"
    },
    "language_info": {
      "name": "python"
    }
  },
  "cells": [
    {
      "cell_type": "code",
      "source": [
        "#9184\n",
        "import sys\n",
        "\n",
        "def w(a,b,c):\n",
        "  if a <= 0 or b <= 0 or c <= 0:#문제 조건에 따라 부여\n",
        "    return 1\n",
        "  if a > 20 or b > 20 or c > 20:\n",
        "    return w(20, 20, 20)\n",
        "\n",
        "  if result[a][b][c]: #해당 값이 result 배열에 존재하는 값이라면 해당 값 반환. 숫자의 경우 0이면 False, 0보다 큰 정수라면 True로 조건문에서 활용 가능.\n",
        "    return result[a][b][c]\n",
        "\n",
        "  if a < b and b <c: \n",
        "    result[a][b][c] = w(a, b, c-1) + w(a, b-1, c-1) - w(a, b-1, c) #재귀 결과를 result라는 3차원 배열에 저장\n",
        "    return result[a][b][c]\n",
        "\n",
        "  result[a][b][c] = w(a-1, b, c) + w(a-1, b-1, c) + w(a-1, b, c-1) - w(a-1, b-1, c-1) #재귀 결과를 result라는 3차원 배열에 저장\n",
        "  return result[a][b][c]\n",
        "\n",
        "result = [[[0]*21for _ in range(21)] for _ in range(21)] #1~20의 값만 활용하기 때문에 배열 크기 21로 제한. (20보다 큰 정수 들어가면 w(20,20,20)이 반환됨.)\n",
        "\n",
        "while True:\n",
        "  a, b, c = map(int, sys.stdin.readline().split())\n",
        "  if a == -1 and b == -1 and c == -1: #입력이 종료됨을 의미\n",
        "    break\n",
        "  print(f'w({a}, {b}, {c}) =', w(a, b, c)) \n"
      ],
      "metadata": {
        "id": "wWG-8q_yesBQ"
      },
      "execution_count": null,
      "outputs": []
    }
  ]
}