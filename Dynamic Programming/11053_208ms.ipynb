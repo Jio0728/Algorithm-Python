{
 "cells": [
  {
   "cell_type": "code",
   "execution_count": 17,
   "metadata": {},
   "outputs": [
    {
     "name": "stdout",
     "output_type": "stream",
     "text": [
      "3\n"
     ]
    }
   ],
   "source": [
    "import sys\n",
    "\n",
    "N = int(sys.stdin.readline())\n",
    "L = list(map(int, sys.stdin.readline().split()))\n",
    "dp = [1]*1001\n",
    "\n",
    "for i in range(1, N):\n",
    "    for j in range(i):\n",
    "        if L[i] > L[j]:\n",
    "            dp[i] = max(dp[j] + 1, dp[i])\n",
    "\n",
    "print(max(dp))"
   ]
  }
 ],
 "metadata": {
  "kernelspec": {
   "display_name": "Python 3.9.2 64-bit",
   "language": "python",
   "name": "python3"
  },
  "language_info": {
   "codemirror_mode": {
    "name": "ipython",
    "version": 3
   },
   "file_extension": ".py",
   "mimetype": "text/x-python",
   "name": "python",
   "nbconvert_exporter": "python",
   "pygments_lexer": "ipython3",
   "version": "3.9.2"
  },
  "orig_nbformat": 4,
  "vscode": {
   "interpreter": {
    "hash": "9847cb6271f1dadfd020ab328e7d1d6fdbebaaace0f8c1c71326fe5f7e43ca02"
   }
  }
 },
 "nbformat": 4,
 "nbformat_minor": 2
}
