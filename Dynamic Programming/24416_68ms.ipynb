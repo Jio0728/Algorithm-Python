{
  "nbformat": 4,
  "nbformat_minor": 0,
  "metadata": {
    "colab": {
      "name": "24416_68ms.ipynb",
      "provenance": []
    },
    "kernelspec": {
      "name": "python3",
      "display_name": "Python 3"
    },
    "language_info": {
      "name": "python"
    }
  },
  "cells": [
    {
      "cell_type": "code",
      "execution_count": null,
      "metadata": {
        "id": "jHj2UxL_M_p2"
      },
      "outputs": [],
      "source": [
        "N = int(input())\n",
        "\n",
        "def get_rec(n):\n",
        "  f = {} #딕셔너리 구조 활용\n",
        "  dynamic_cnt = 0 #코드2 실행횟수 담을 변수\n",
        "  f[1] = 1 \n",
        "  f[2] = 1\n",
        "  for i in range(3, n+1):\n",
        "    dynamic_cnt += 1 #코드 2 실행할 때 마다 담기\n",
        "    f[i] = f[i-1] + f[i-2]\n",
        "  return f[n] #코드1의 실행 횟수는 피보나치 수열의 n번째 값과 동일하다.\n",
        "\n",
        "print(get_rec(N), dynamic_cnt)"
      ]
    }
  ]
}