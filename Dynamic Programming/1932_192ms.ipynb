{
 "cells": [
  {
   "cell_type": "code",
   "execution_count": null,
   "metadata": {},
   "outputs": [],
   "source": [
    "import sys\n",
    "\n",
    "N = int(sys.stdin.readline())\n",
    "matrix = [list(map(int, sys.stdin.readline().split())) for _ in range(N)]\n",
    "dp = [[0]* i for i in range(1, N+1)]\n",
    "dp[0][0] = matrix[0][0] \n",
    "if N > 1:\n",
    "    dp[1][0] = dp[0][0] + matrix[1][0] \n",
    "    dp[1][1] = dp[0][0] + matrix[1][1]\n",
    "\n",
    "for i in range(2, N):\n",
    "    for j in range(len(matrix[i])):\n",
    "        if j == 0:\n",
    "            dp[i][0] = dp[i-1][0] + matrix[i][j]\n",
    "        elif j == len(matrix[i]) - 1:\n",
    "            dp[i][j] = dp[i-1][len(matrix[i]) - 2] + matrix[i][len(matrix[i]) - 1] \n",
    "        else:\n",
    "            dp[i][j] = max(dp[i-1][j-1], dp[i-1][j]) + matrix[i][j]\n",
    "\n",
    "print(max(dp[N-1]))"
   ]
  }
 ],
 "metadata": {
  "interpreter": {
   "hash": "9847cb6271f1dadfd020ab328e7d1d6fdbebaaace0f8c1c71326fe5f7e43ca02"
  },
  "kernelspec": {
   "display_name": "Python 3.9.2 64-bit",
   "language": "python",
   "name": "python3"
  },
  "language_info": {
   "name": "python",
   "version": "3.9.2"
  },
  "orig_nbformat": 4
 },
 "nbformat": 4,
 "nbformat_minor": 2
}
