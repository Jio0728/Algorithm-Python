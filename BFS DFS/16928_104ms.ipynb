{
  "nbformat": 4,
  "nbformat_minor": 0,
  "metadata": {
    "colab": {
      "name": "16928-104ms.ipynb",
      "provenance": []
    },
    "kernelspec": {
      "name": "python3",
      "display_name": "Python 3"
    },
    "language_info": {
      "name": "python"
    }
  },
  "cells": [
    {
      "cell_type": "code",
      "execution_count": null,
      "metadata": {
        "id": "Sm50Iu3Xo6kd"
      },
      "outputs": [],
      "source": [
        "from collections import deque\n",
        "\n",
        "N, M = map(int, input().split())\n",
        "queue = deque()\n",
        "V = [0] * 101 #0번 index를 쓰지 않을 것이라서 100 + 1만큼의 크기로 만듦. 방문 순번 저장할 리스트임.\n",
        "\n",
        "ladder = {} #시간복잡도 최소화를 위해 딕셔너리 형태로 사다리, 뱀 정보 저장\n",
        "snake = {}\n",
        "for i in range(N):\n",
        "  a, b = map(int, input().split())\n",
        "  ladder[a] = b\n",
        "for i in range(M):\n",
        "  a, b = map(int, input().split())\n",
        "  snake[a] = b\n",
        "\n",
        "def bfs():\n",
        "  queue.append(1)\n",
        "  V[1] = 1\n",
        "  while queue:\n",
        "    a = queue.popleft()\n",
        "    for i in range(1, 7): #주사위 1~6까지 굴리기 가능.\n",
        "      nx = a + i\n",
        "      if nx in ladder: #그 다음 방문에 사다리 또는 뱀이 있다면 사다리/뱀의 목적지에 도달하게 됨. 그 다음 방문에 사다리/뱀의 목적지 저장.\n",
        "        nx = ladder[nx] \n",
        "      if nx in snake:\n",
        "        nx = snake[nx]\n",
        "      if nx == 100: #그 다음 방문이 도착지점과 일치한다면 이전 방문 순번 전환. (1번칸의 방문 순서를 1로 저장했기 때문에, 이전방문 + 1해서 반환한다면 하나 더 많은 방문횟수를 반환하게 된다.)\n",
        "        return V[a]\n",
        "      if nx <= 100 and V[nx] == 0: \n",
        "        queue.append(nx)\n",
        "        V[nx] = V[a] + 1\n",
        "        \n",
        "      \n",
        "\n",
        "res = bfs()\n",
        "print(res)"
      ]
    }
  ]
}