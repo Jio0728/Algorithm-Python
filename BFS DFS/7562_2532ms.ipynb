{
  "nbformat": 4,
  "nbformat_minor": 0,
  "metadata": {
    "colab": {
      "name": "7562-2532ms.ipynb",
      "provenance": []
    },
    "kernelspec": {
      "name": "python3",
      "display_name": "Python 3"
    },
    "language_info": {
      "name": "python"
    }
  },
  "cells": [
    {
      "cell_type": "code",
      "execution_count": null,
      "metadata": {
        "id": "10osjqc441xR"
      },
      "outputs": [],
      "source": [
        "from collections import deque\n",
        "\n",
        "t = int(input())\n",
        "dx = [1, 2, 2, 1, -1, -2, -2, -1] #이동 가능한 위치의 x, y component를 나누자.\n",
        "dy = [2, 1, -1, -2, -2, -1, 1, 2]\n",
        "\n",
        "def bfs(I, x, y, u, v):\n",
        "  queue = deque()\n",
        "  queue.append((x,y))\n",
        "  mapped = [[0]*I for _ in range(I)] #방문 순서를 담을 matrix\n",
        "  mapped[y][x] = 1\n",
        "  while queue:\n",
        "    a, b = queue.popleft()\n",
        "    if a == u and b == v: #애초에 시작과 종료 위치가 같을 경우 해당 위치에 저장된 순서 반환\n",
        "      return mapped[b][a]\n",
        "\n",
        "    for i in range(8):\n",
        "      nx, ny = a + dx[i], b + dy[i] \n",
        "\n",
        "      if nx == u and ny == v: #그 다음 위치가 종료위치와 같을 경우, 이전 위치의 순번 +1 반환\n",
        "        return mapped[b][a] + 1\n",
        "\n",
        "      if 0 <= nx < I and 0 <= ny < I and mapped[ny][nx] == 0:\n",
        "        queue.append((nx,ny))\n",
        "        mapped[ny][nx] = mapped[b][a] + 1\n",
        "\n",
        "for _ in range(t):\n",
        "  I = int(input())\n",
        "  x, y = map(int, input().split())\n",
        "  u, v = map(int, input().split())\n",
        "  print(bfs(I, x, y, u, v)-1) #시작점에 저장된 숫자가 1이라서 1만큼 빼줌. "
      ]
    }
  ]
}