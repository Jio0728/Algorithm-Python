{
  "nbformat": 4,
  "nbformat_minor": 0,
  "metadata": {
    "colab": {
      "name": "07.12(2206_5928ms).ipynb",
      "provenance": []
    },
    "kernelspec": {
      "name": "python3",
      "display_name": "Python 3"
    },
    "language_info": {
      "name": "python"
    }
  },
  "cells": [
    {
      "cell_type": "code",
      "execution_count": null,
      "metadata": {
        "id": "Di_meObcjRE2"
      },
      "outputs": [],
      "source": [
        "from collections import deque\n",
        "\n",
        "N, M = map(int, input().split()) \n",
        "mapped = [list(map(int,input())) for _ in range(N)] #지도 그대로 불러오기\n",
        "visited = [[[0]*M for _ in range(N)] for _ in range(2)] #방문 순차와 벽 부쉈는지 여부 담을 3차원 matrix\n",
        "queue = deque()\n",
        "dx = [1, -1, 0, 0]\n",
        "dy = [0, 0, 1, -1]\n",
        "\n",
        "def bfs():\n",
        "  queue.append((0,0,0))\n",
        "  visited[0][0][0] = 1 #첫시작점 방문.\n",
        "\n",
        "  while queue:\n",
        "    crash, a, b = queue.popleft() #벽 부숨 여부는 crash로 정의. crash = 0: 벽 부순 적 없음. crash = 1: 벽 부순 적 있음.\n",
        "\n",
        "    if a == M-1 and b == N-1: #큐에서 꺼낸 요소가 맨 끝점에 도달했을 시 visited matrix에 저장된 방문 순차 불러오기.\n",
        "      return visited[crash][b][a]\n",
        "      #만약 큐에 담기 전에 nx == M-1, ny == N-1일 때 이전 방문 순차 + 1해서 출력하면 틀립니다. \n",
        "\n",
        "    for i in range(4):\n",
        "      nx, ny = a + dx[i], b + dy[i]\n",
        "      if 0 <= nx < M and 0 <= ny <N: \n",
        "        if mapped[ny][nx] == 0 and visited[crash][ny][nx] == 0: #다음 요소가 벽이 아니고, 방문한 적 없을 때는 평범한 bfs처럼 그저 순차 +1\n",
        "          queue.append((crash, nx, ny))\n",
        "          visited[crash][ny][nx] = visited[crash][b][a]+1\n",
        "\n",
        "        if mapped[ny][nx] == 1 and crash == 0: #다음 요소가 벽일 때 방문한 적이 없으면(crash == 0) 벽 부수고 crash =1로 변경.\n",
        "        #이 때 crash = 1이런 식으로 정의하면 안 됨. 이슈 되는 테스트 케이스: 특정 위치 기준 오른쪽과 아랫쪽 모두에 벽이 있는 상황 가정.\n",
        "        #해당 중심 위치에서 오른쪽을 방문하면 crash = 1이 되어버리고, 다시 해당 중심 위치에서 아랫쪽 방문 시 오른쪽 방문으로 인해 crash = 1로 반영되어 있어서 벽을 뚫을 수 없음.\n",
        "          visited[1][ny][nx] = visited[0][b][a]+1 \n",
        "          queue.append((1,nx,ny))\n",
        "\n",
        "  return -1\n",
        "\n",
        "res = bfs()\n",
        "print(res)"
      ]
    }
  ]
}